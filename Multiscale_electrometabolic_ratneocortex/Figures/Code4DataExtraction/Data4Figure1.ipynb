{
 "cells": [
  {
   "cell_type": "code",
   "execution_count": 1,
   "metadata": {},
   "outputs": [],
   "source": [
    "import h5py    \n",
    "import numpy as np  \n",
    "import bluepysnap\n",
    "import matplotlib.pyplot as plt\n",
    "import seaborn as sns\n",
    "import bluepysnap\n",
    "from bluepysnap import Simulation as snap_sim\n",
    "from pathlib import Path\n",
    "# Create a custom legend\n",
    "import matplotlib.patches as mpatches\n",
    "\n",
    "plt.rc('text', usetex=True)"
   ]
  },
  {
   "cell_type": "code",
   "execution_count": 2,
   "metadata": {},
   "outputs": [],
   "source": [
    "# Add path for the config folder where circuit_config of the simulation is\n",
    "results_path = '/gpfs/bbp.cscs.ch/data/project/proj137/farinaNGV/Paper_results/config/'"
   ]
  },
  {
   "cell_type": "code",
   "execution_count": 3,
   "metadata": {},
   "outputs": [],
   "source": [
    "# read the circuit from ../../config/circuit_config.json\n",
    "# NOTE: in circuit_config.json many path are relative\n",
    "# We need to read the circuit to get the info about the neurons as e-type and layer\n",
    "#circuit = bluepysnap.Circuit('/gpfs/bbp.cscs.ch/data/project/proj137/farinaNGV/Paper_results/config/circuit_config.json')\n",
    "circuit = bluepysnap.Circuit('../../config/circuit_config.json' )\n",
    "node_population = circuit.nodes[\"All\"]\n",
    "pandas_nodes = node_population.get()"
   ]
  },
  {
   "cell_type": "code",
   "execution_count": 4,
   "metadata": {},
   "outputs": [],
   "source": [
    "def read_result(result_path):\n",
    "    read_result = h5py.File(result_path)\n",
    "    result = read_result['report']['All']['data']\n",
    "\n",
    "    return(result)\n",
    "\n",
    "def mapping_extract(result_path):\n",
    "    read_result = h5py.File(result_path)\n",
    "    result = read_result['report']['All']['data']\n",
    "        \n",
    "    extract_mapping = read_result['report']['All']['mapping']['node_ids'][:]\n",
    "    \n",
    "    t0 = read_result['report']['All']['mapping']['time'][0]\n",
    "    T =read_result['report']['All']['mapping']['time'][1]\n",
    "    dt = read_result['report']['All']['mapping']['time'][2]\n",
    "\n",
    "    \n",
    "    N= (T-t0)/dt\n",
    "    time_line = np.linspace(t0,T, int(N))\n",
    "    N2 = (T-t0)/0.025\n",
    "    voltage_time_line = np.linspace(t0,T,int(N2))\n",
    "    return(extract_mapping, time_line, voltage_time_line)"
   ]
  },
  {
   "cell_type": "code",
   "execution_count": 5,
   "metadata": {},
   "outputs": [],
   "source": [
    "# Path: Results Folder (where reporting_metabolism_young is) can be downloaded from 10.5281/zenodo.14187063\n",
    "results_path='/gpfs/bbp.cscs.ch/data/project/proj137/farinaNGV/Paper_results/my_simulation/reporting_metabolism_young/'\n",
    "read_nai = read_result(results_path + 'ndam_nai.h5')\n",
    "mapping, time_line, volt_time = mapping_extract(results_path + 'ndam_nai.h5')"
   ]
  },
  {
   "cell_type": "code",
   "execution_count": 6,
   "metadata": {},
   "outputs": [],
   "source": [
    "# Importing Pandas to create DataFrame\n",
    "import pandas as pd\n",
    " \n",
    "# Creating Empty DataFrame and Storing it in variable df\n",
    "df = pd.DataFrame()"
   ]
  },
  {
   "cell_type": "code",
   "execution_count": 7,
   "metadata": {},
   "outputs": [],
   "source": [
    "df['ids'] = mapping\n",
    "df['etype'] = [pandas_nodes['etype'][i] for i in df['ids']]\n",
    "df['layer'] = [pandas_nodes['layer'][i] for i in df['ids']]\n",
    "df['synapse_class'] = [ pandas_nodes['synapse_class'][i] for i in df['ids']]"
   ]
  },
  {
   "cell_type": "code",
   "execution_count": 8,
   "metadata": {},
   "outputs": [],
   "source": [
    "number_neurons = len(mapping)\n",
    "number_astro = 85"
   ]
  },
  {
   "cell_type": "code",
   "execution_count": 9,
   "metadata": {},
   "outputs": [
    {
     "name": "stdout",
     "output_type": "stream",
     "text": [
      "24368 3594\n"
     ]
    }
   ],
   "source": [
    "count_exc = (df['synapse_class'] == 'EXC').sum()\n",
    "count_inh = (df['synapse_class'] == 'INH').sum()\n",
    "print(count_exc, count_inh)"
   ]
  },
  {
   "cell_type": "code",
   "execution_count": 10,
   "metadata": {},
   "outputs": [],
   "source": [
    "dict_nodes_2 ={}\n",
    "dict_nodes_2[\"Layer1\"]=[]\n",
    "dict_nodes_2[\"Layer2Excitatory\"] =[]\n",
    "dict_nodes_2[\"Layer2Inhibitory\"] =[]\n",
    "dict_nodes_2[\"Layer3Excitatory\"] =[]\n",
    "dict_nodes_2[\"Layer3Inhibitory\"] =[]\n",
    "dict_nodes_2[\"Layer4Excitatory\"] =[]\n",
    "dict_nodes_2[\"Layer4Inhibitory\"] =[]\n",
    "dict_nodes_2[\"Layer5Excitatory\"] =[]\n",
    "dict_nodes_2[\"Layer5Inhibitory\"] =[]\n",
    "dict_nodes_2[\"Layer6Excitatory\"] =[]\n",
    "dict_nodes_2[\"Layer6Inhibitory\"] =[]\n",
    "\n",
    "#node_population.get().index.to_list()\n",
    "for j in mapping:\n",
    "    cell_id = node_population.get(j)\n",
    "    layer = cell_id.get('layer')\n",
    "    syn_class = cell_id.get('synapse_class')\n",
    "    if layer == 1:\n",
    "        dict_nodes_2[\"Layer1\"].append(j)\n",
    "    elif syn_class == 'INH':\n",
    "        if layer == 2:\n",
    "            dict_nodes_2[\"Layer2Inhibitory\"].append(j)\n",
    "        elif layer == 3:\n",
    "            dict_nodes_2[\"Layer3Inhibitory\"].append(j)\n",
    "        elif layer ==4:\n",
    "            dict_nodes_2[\"Layer4Inhibitory\"].append(j)\n",
    "        elif layer==5:\n",
    "            dict_nodes_2[\"Layer5Inhibitory\"].append(j)\n",
    "        elif layer==6:\n",
    "            dict_nodes_2[\"Layer6Inhibitory\"].append(j)\n",
    "        else:\n",
    "            print(\"not in the options!\")\n",
    "    elif syn_class == 'EXC':\n",
    "        if layer == 2 :\n",
    "            dict_nodes_2[\"Layer2Excitatory\"].append(j)\n",
    "        elif layer == 3 :\n",
    "            dict_nodes_2[\"Layer3Excitatory\"].append(j)\n",
    "        elif layer ==4:\n",
    "            dict_nodes_2[\"Layer4Excitatory\" ].append(j)\n",
    "        elif layer==5:\n",
    "            dict_nodes_2[\"Layer5Excitatory\"].append(j)\n",
    "        elif layer==6:\n",
    "            dict_nodes_2[\"Layer6Excitatory\"].append(j)\n",
    "        else:\n",
    "            print(\"not in the options!\")"
   ]
  },
  {
   "cell_type": "code",
   "execution_count": 11,
   "metadata": {},
   "outputs": [
    {
     "name": "stdout",
     "output_type": "stream",
     "text": [
      "27962\n",
      "data_2 [1.326800658035906, 12.938988627422932, 2.667906444460339, 16.915814319433515, 1.7380730992060653, 20.538588083828053, 1.4162077104642015, 24.629854802946856, 4.101995565410199, 12.123596309276875, 1.6021743795150563]\n"
     ]
    }
   ],
   "source": [
    "Total_cells_subgroup = len(mapping)\n",
    "print(Total_cells_subgroup)\n",
    "def func2(key_call):\n",
    "    values = len(dict_nodes_2[key_call]) *100./ Total_cells_subgroup\n",
    "    return(values)\n",
    "data_2 = [func2(j) for j in dict_nodes_2.keys()]\n",
    "print('data_2', data_2)"
   ]
  },
  {
   "cell_type": "code",
   "execution_count": 14,
   "metadata": {},
   "outputs": [],
   "source": [
    "# Save to a CSV file\n",
    "#df.to_csv('/gpfs/bbp.cscs.ch/data/project/proj137/farinaNGV/Multiscale_ndm_met/Figures/Data/fig1_circuit_composition.csv', index=False)"
   ]
  },
  {
   "cell_type": "code",
   "execution_count": null,
   "metadata": {},
   "outputs": [],
   "source": []
  }
 ],
 "metadata": {
  "kernelspec": {
   "display_name": "multiscale_kernel",
   "language": "python",
   "name": "multiscale_kernel"
  },
  "language_info": {
   "codemirror_mode": {
    "name": "ipython",
    "version": 3
   },
   "file_extension": ".py",
   "mimetype": "text/x-python",
   "name": "python",
   "nbconvert_exporter": "python",
   "pygments_lexer": "ipython3",
   "version": "3.8.3"
  }
 },
 "nbformat": 4,
 "nbformat_minor": 4
}
