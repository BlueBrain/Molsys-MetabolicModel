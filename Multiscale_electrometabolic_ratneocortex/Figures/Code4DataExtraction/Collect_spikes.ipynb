{
 "cells": [
  {
   "cell_type": "code",
   "execution_count": 1,
   "metadata": {},
   "outputs": [],
   "source": [
    "import bluepysnap\n",
    "from pathlib import Path\n",
    "from matplotlib import pyplot as plt\n",
    "import pandas as pd\n",
    "import numpy as np\n",
    "import h5py   "
   ]
  },
  {
   "cell_type": "code",
   "execution_count": 2,
   "metadata": {},
   "outputs": [],
   "source": [
    "# Path: Results Folder can be downloaded from 10.5281/zenodo.14187063\n",
    "results_path = '/gpfs/bbp.cscs.ch/data/project/proj137/farinaNGV/Paper_results/my_simulation/'"
   ]
  },
  {
   "cell_type": "code",
   "execution_count": 3,
   "metadata": {},
   "outputs": [],
   "source": [
    "sim_results_path = results_path + 'reporting_metabolism_young/' # Path: Results Folder can be downloaded from 10.5281/zenodo.14187063\n",
    "read_result = h5py.File(sim_results_path+ 'ndam_nai.h5')\n",
    "extract_mapping = read_result['report']['All']['mapping']['node_ids'][:]"
   ]
  },
  {
   "cell_type": "code",
   "execution_count": 5,
   "metadata": {},
   "outputs": [
    {
     "name": "stdout",
     "output_type": "stream",
     "text": [
      "Nodes in the circuit 129348\n"
     ]
    }
   ],
   "source": [
    "# read the circuit from ../config/circuit_config.json\n",
    "# NOTE: in circuit_config.json many path are relative\n",
    "# We need to read the circuit to get the info about the neurons as e-type and layer\n",
    "#circuit = bluepysnap.Circuit('/gpfs/bbp.cscs.ch/data/project/proj137/farinaNGV/Paper_results/config/circuit_config.json')\n",
    "circuit = bluepysnap.Circuit('../../config/circuit_config.json')\n",
    "node_population = circuit.nodes[\"All\"]\n",
    "pandas_nodes = node_population.get()\n",
    "print('Nodes in the circuit', len(node_population.get().index.to_list()))"
   ]
  },
  {
   "cell_type": "code",
   "execution_count": 8,
   "metadata": {},
   "outputs": [],
   "source": [
    "# read the circuit from ../../simulations/simulation_config_ndam.json\n",
    "# IMPORTANT: to read the spikes, you need to copy the results folder where spike.dat is and check that simulation_config_ndam.json points to the RESULTS folder\n",
    "# Path: Results Folder can be downloaded from 10.5281/zenodo.14187063\n",
    "simndam_path =results_path+\"simulation_config_ndam.json\"\n",
    "sim_ndam = bluepysnap.Simulation(simndam_path)"
   ]
  },
  {
   "cell_type": "code",
   "execution_count": 9,
   "metadata": {},
   "outputs": [],
   "source": [
    "# read the circuit from ../../simulations/simulation_config_ndam.json\n",
    "# IMPORTANT: to read the spikes, you need to copy the results folder where spike.dat is and check that simulation_config_ndam.json points to the RESULTS folder\n",
    "# Path: Results Folder can be downloaded from 10.5281/zenodo.1418706\n",
    "simmet_path =results_path+\"simulation_config_young.json\"\n",
    "sim_met = bluepysnap.Simulation(simmet_path)"
   ]
  },
  {
   "cell_type": "code",
   "execution_count": 10,
   "metadata": {},
   "outputs": [],
   "source": [
    "# read the circuit from ../../simulations/simulation_config_ndam.json\n",
    "# IMPORTANT: to read the spikes, you need to copy the results folder where spike.dat is and check that simulation_config_ndam.json points to the RESULTS folder\n",
    "# Path: Results Folder can be downloaded from 10.5281/zenodo.1418706\n",
    "simaged_path =results_path+\"simulation_config_aged.json\"\n",
    "sim_aged = bluepysnap.Simulation(simaged_path)"
   ]
  },
  {
   "cell_type": "code",
   "execution_count": 11,
   "metadata": {},
   "outputs": [
    {
     "data": {
      "text/plain": [
       "times\n",
       "299.600     100575\n",
       "1147.575    100575\n",
       "1631.225    100575\n",
       "2123.325    100575\n",
       "2784.025    100575\n",
       "Name: ids, dtype: int64"
      ]
     },
     "execution_count": 11,
     "metadata": {},
     "output_type": "execute_result"
    }
   ],
   "source": [
    "sim_met.spikes['All'].get(100575)"
   ]
  },
  {
   "cell_type": "code",
   "execution_count": 11,
   "metadata": {},
   "outputs": [],
   "source": [
    "# Importing Pandas to create DataFrame\n",
    "import pandas as pd\n",
    " \n",
    "# Creating Empty DataFrame and Storing it in variable df\n",
    "df = pd.DataFrame()"
   ]
  },
  {
   "cell_type": "code",
   "execution_count": 12,
   "metadata": {},
   "outputs": [],
   "source": [
    "df['ids'] = extract_mapping\n",
    "df['etype'] = [pandas_nodes['etype'][i] for i in df['ids']]\n",
    "df['layer'] = [pandas_nodes['layer'][i] for i in df['ids']]\n",
    "df['synapse_class'] = [ pandas_nodes['synapse_class'][i] for i in df['ids']]"
   ]
  },
  {
   "cell_type": "code",
   "execution_count": null,
   "metadata": {},
   "outputs": [],
   "source": [
    "df['spikes_ndam'] = [sim_ndam.spikes['All'].get(i).count() for i in df['ids']]\n",
    "df['spikes_met'] = [sim_met.spikes['All'].get(i).count() for i in df['ids']]\n",
    "df['spikes_aged'] = [sim_aged.spikes['All'].get(i).count() for i in df['ids']]"
   ]
  },
  {
   "cell_type": "code",
   "execution_count": null,
   "metadata": {},
   "outputs": [
    {
     "data": {
      "text/html": [
       "<div>\n",
       "<style scoped>\n",
       "    .dataframe tbody tr th:only-of-type {\n",
       "        vertical-align: middle;\n",
       "    }\n",
       "\n",
       "    .dataframe tbody tr th {\n",
       "        vertical-align: top;\n",
       "    }\n",
       "\n",
       "    .dataframe thead th {\n",
       "        text-align: right;\n",
       "    }\n",
       "</style>\n",
       "<table border=\"1\" class=\"dataframe\">\n",
       "  <thead>\n",
       "    <tr style=\"text-align: right;\">\n",
       "      <th></th>\n",
       "      <th>ids</th>\n",
       "      <th>etype</th>\n",
       "      <th>layer</th>\n",
       "      <th>synapse_class</th>\n",
       "      <th>spikes_ndam</th>\n",
       "      <th>spikes_met</th>\n",
       "      <th>spikes_aged</th>\n",
       "    </tr>\n",
       "  </thead>\n",
       "  <tbody>\n",
       "    <tr>\n",
       "      <th>0</th>\n",
       "      <td>15</td>\n",
       "      <td>bNAC</td>\n",
       "      <td>1</td>\n",
       "      <td>INH</td>\n",
       "      <td>0</td>\n",
       "      <td>0</td>\n",
       "      <td>0</td>\n",
       "    </tr>\n",
       "    <tr>\n",
       "      <th>1</th>\n",
       "      <td>9688</td>\n",
       "      <td>cADpyr</td>\n",
       "      <td>3</td>\n",
       "      <td>EXC</td>\n",
       "      <td>0</td>\n",
       "      <td>0</td>\n",
       "      <td>1</td>\n",
       "    </tr>\n",
       "    <tr>\n",
       "      <th>2</th>\n",
       "      <td>19377</td>\n",
       "      <td>cNAC</td>\n",
       "      <td>3</td>\n",
       "      <td>INH</td>\n",
       "      <td>0</td>\n",
       "      <td>0</td>\n",
       "      <td>0</td>\n",
       "    </tr>\n",
       "    <tr>\n",
       "      <th>3</th>\n",
       "      <td>29550</td>\n",
       "      <td>cADpyr</td>\n",
       "      <td>6</td>\n",
       "      <td>EXC</td>\n",
       "      <td>0</td>\n",
       "      <td>1</td>\n",
       "      <td>1</td>\n",
       "    </tr>\n",
       "    <tr>\n",
       "      <th>4</th>\n",
       "      <td>40058</td>\n",
       "      <td>cADpyr</td>\n",
       "      <td>6</td>\n",
       "      <td>EXC</td>\n",
       "      <td>0</td>\n",
       "      <td>0</td>\n",
       "      <td>0</td>\n",
       "    </tr>\n",
       "    <tr>\n",
       "      <th>...</th>\n",
       "      <td>...</td>\n",
       "      <td>...</td>\n",
       "      <td>...</td>\n",
       "      <td>...</td>\n",
       "      <td>...</td>\n",
       "      <td>...</td>\n",
       "      <td>...</td>\n",
       "    </tr>\n",
       "    <tr>\n",
       "      <th>27957</th>\n",
       "      <td>87146</td>\n",
       "      <td>cADpyr</td>\n",
       "      <td>2</td>\n",
       "      <td>EXC</td>\n",
       "      <td>0</td>\n",
       "      <td>0</td>\n",
       "      <td>0</td>\n",
       "    </tr>\n",
       "    <tr>\n",
       "      <th>27958</th>\n",
       "      <td>96387</td>\n",
       "      <td>dSTUT</td>\n",
       "      <td>5</td>\n",
       "      <td>INH</td>\n",
       "      <td>3</td>\n",
       "      <td>3</td>\n",
       "      <td>4</td>\n",
       "    </tr>\n",
       "    <tr>\n",
       "      <th>27959</th>\n",
       "      <td>105473</td>\n",
       "      <td>cADpyr</td>\n",
       "      <td>5</td>\n",
       "      <td>EXC</td>\n",
       "      <td>1</td>\n",
       "      <td>2</td>\n",
       "      <td>2</td>\n",
       "    </tr>\n",
       "    <tr>\n",
       "      <th>27960</th>\n",
       "      <td>114402</td>\n",
       "      <td>cADpyr</td>\n",
       "      <td>5</td>\n",
       "      <td>EXC</td>\n",
       "      <td>0</td>\n",
       "      <td>0</td>\n",
       "      <td>0</td>\n",
       "    </tr>\n",
       "    <tr>\n",
       "      <th>27961</th>\n",
       "      <td>123452</td>\n",
       "      <td>cADpyr</td>\n",
       "      <td>5</td>\n",
       "      <td>EXC</td>\n",
       "      <td>0</td>\n",
       "      <td>0</td>\n",
       "      <td>0</td>\n",
       "    </tr>\n",
       "  </tbody>\n",
       "</table>\n",
       "<p>27962 rows × 7 columns</p>\n",
       "</div>"
      ],
      "text/plain": [
       "          ids   etype  layer synapse_class  spikes_ndam  spikes_met  \\\n",
       "0          15    bNAC      1           INH            0           0   \n",
       "1        9688  cADpyr      3           EXC            0           0   \n",
       "2       19377    cNAC      3           INH            0           0   \n",
       "3       29550  cADpyr      6           EXC            0           1   \n",
       "4       40058  cADpyr      6           EXC            0           0   \n",
       "...       ...     ...    ...           ...          ...         ...   \n",
       "27957   87146  cADpyr      2           EXC            0           0   \n",
       "27958   96387   dSTUT      5           INH            3           3   \n",
       "27959  105473  cADpyr      5           EXC            1           2   \n",
       "27960  114402  cADpyr      5           EXC            0           0   \n",
       "27961  123452  cADpyr      5           EXC            0           0   \n",
       "\n",
       "       spikes_aged  \n",
       "0                0  \n",
       "1                1  \n",
       "2                0  \n",
       "3                1  \n",
       "4                0  \n",
       "...            ...  \n",
       "27957            0  \n",
       "27958            4  \n",
       "27959            2  \n",
       "27960            0  \n",
       "27961            0  \n",
       "\n",
       "[27962 rows x 7 columns]"
      ]
     },
     "execution_count": 14,
     "metadata": {},
     "output_type": "execute_result"
    }
   ],
   "source": [
    "df"
   ]
  },
  {
   "cell_type": "code",
   "execution_count": 13,
   "metadata": {},
   "outputs": [],
   "source": [
    "#df.to_csv('Data/spikes_ndam_met_aged.csv', index=False) #Data can be downloaded from 10.5281/zenodo.14187063"
   ]
  },
  {
   "cell_type": "code",
   "execution_count": null,
   "metadata": {},
   "outputs": [],
   "source": []
  }
 ],
 "metadata": {
  "kernelspec": {
   "display_name": "multiscale_kernel",
   "language": "python",
   "name": "multiscale_kernel"
  },
  "language_info": {
   "codemirror_mode": {
    "name": "ipython",
    "version": 3
   },
   "file_extension": ".py",
   "mimetype": "text/x-python",
   "name": "python",
   "nbconvert_exporter": "python",
   "pygments_lexer": "ipython3",
   "version": "3.8.3"
  }
 },
 "nbformat": 4,
 "nbformat_minor": 4
}
