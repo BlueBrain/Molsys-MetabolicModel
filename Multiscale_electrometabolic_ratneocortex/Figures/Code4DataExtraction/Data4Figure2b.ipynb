{
 "cells": [
  {
   "cell_type": "code",
   "execution_count": 1,
   "metadata": {},
   "outputs": [],
   "source": [
    "import h5py    \n",
    "import numpy as np  \n",
    "import bluepysnap\n",
    "import matplotlib.pyplot as plt\n",
    "from mpl_toolkits.axisartist.axislines import Axes\n",
    "import bluepysnap\n",
    "from bluepysnap import Simulation as snap_sim\n",
    "from pathlib import Path\n",
    "import seaborn as sns\n",
    "import pandas as pd\n"
   ]
  },
  {
   "cell_type": "code",
   "execution_count": 2,
   "metadata": {},
   "outputs": [],
   "source": [
    "color_met = '#FFA400'"
   ]
  },
  {
   "cell_type": "code",
   "execution_count": 3,
   "metadata": {},
   "outputs": [],
   "source": [
    "# Path where simulation results are stored\n",
    "results_path  = '/gpfs/bbp.cscs.ch/data/project/proj137/farinaNGV/Paper_results/my_simulation/'"
   ]
  },
  {
   "cell_type": "code",
   "execution_count": 4,
   "metadata": {},
   "outputs": [],
   "source": [
    "def read_result(result_path):\n",
    "    read_result = h5py.File(result_path)\n",
    "    result = read_result['report']['All']['data']\n",
    "\n",
    "    return(result)\n",
    "\n",
    "def mapping_extract(result_path):\n",
    "    read_result = h5py.File(result_path)\n",
    "    result = read_result['report']['All']['data']\n",
    "        \n",
    "    extract_mapping = read_result['report']['All']['mapping']['node_ids'][:]\n",
    "    \n",
    "    t0 = read_result['report']['All']['mapping']['time'][0]\n",
    "    T =read_result['report']['All']['mapping']['time'][1]\n",
    "    dt = read_result['report']['All']['mapping']['time'][2]\n",
    "\n",
    "    \n",
    "    N= (T-t0)/dt\n",
    "    time_line = np.linspace(t0,T, int(N))\n",
    "    N2 = (T-t0)/0.025\n",
    "    voltage_time_line = np.linspace(t0,T,int(N2))\n",
    "    return(extract_mapping, time_line, voltage_time_line)"
   ]
  },
  {
   "cell_type": "code",
   "execution_count": 5,
   "metadata": {},
   "outputs": [
    {
     "name": "stdout",
     "output_type": "stream",
     "text": [
      "Nodes in the circuit 129348\n"
     ]
    }
   ],
   "source": [
    "# read the circuit from ../../config/circuit_config.json\n",
    "# NOTE: in circuit_config.json many path are relative\n",
    "# We need to read the circuit to get the info about the neurons as e-type and layer\n",
    "#circuit = bluepysnap.Circuit('/gpfs/bbp.cscs.ch/data/project/proj137/farinaNGV/Paper_results/config/circuit_config.json')\n",
    "circuit = bluepysnap.Circuit('../../config/circuit_config.json' )\n",
    "node_population = circuit.nodes[\"All\"]\n",
    "pandas_nodes = node_population.get()\n",
    "print('Nodes in the circuit', len(node_population.get().index.to_list()))"
   ]
  },
  {
   "cell_type": "code",
   "execution_count": 6,
   "metadata": {},
   "outputs": [],
   "source": [
    "sim_results_path = results_path + 'reporting_metabolism_young/'#  can be downloaded from 10.5281/zenodo.14187063\n",
    "\n",
    "Nai = read_result(sim_results_path+  'ndam_nai.h5')\n",
    "Ki = read_result(sim_results_path+ 'ndam_ki.h5')\n",
    "\n",
    "cai = read_result(sim_results_path+ 'ndam_cai.h5')\n",
    "cli = read_result(sim_results_path+ 'ndam_cli.h5')\n",
    "\n",
    "after_ATP = read_result(sim_results_path+ 'metab_atpi_after_sync.h5')\n",
    "after_ADP = read_result(sim_results_path+ 'metab_adpi_after_sync.h5')\n",
    "\n",
    "mapping,time_line, volt_time = mapping_extract(sim_results_path+ 'ndam_nai.h5')"
   ]
  },
  {
   "cell_type": "code",
   "execution_count": 7,
   "metadata": {},
   "outputs": [],
   "source": [
    "data = {'ATP':after_ATP[-1,:], 'ADP':after_ADP[-1,:], 'cai': cai[-1,:], 'cli':cli[-1,:], 'Nai':Nai[-1,:],'Ki':Ki[-1,:]} "
   ]
  },
  {
   "cell_type": "code",
   "execution_count": 8,
   "metadata": {},
   "outputs": [],
   "source": [
    "df = pd.DataFrame(data)"
   ]
  },
  {
   "cell_type": "code",
   "execution_count": 10,
   "metadata": {},
   "outputs": [
    {
     "data": {
      "text/html": [
       "<div>\n",
       "<style scoped>\n",
       "    .dataframe tbody tr th:only-of-type {\n",
       "        vertical-align: middle;\n",
       "    }\n",
       "\n",
       "    .dataframe tbody tr th {\n",
       "        vertical-align: top;\n",
       "    }\n",
       "\n",
       "    .dataframe thead th {\n",
       "        text-align: right;\n",
       "    }\n",
       "</style>\n",
       "<table border=\"1\" class=\"dataframe\">\n",
       "  <thead>\n",
       "    <tr style=\"text-align: right;\">\n",
       "      <th></th>\n",
       "      <th>ATP</th>\n",
       "      <th>ADP</th>\n",
       "      <th>cai</th>\n",
       "      <th>cli</th>\n",
       "      <th>Nai</th>\n",
       "      <th>Ki</th>\n",
       "    </tr>\n",
       "  </thead>\n",
       "  <tbody>\n",
       "    <tr>\n",
       "      <th>0</th>\n",
       "      <td>1.295010</td>\n",
       "      <td>0.134746</td>\n",
       "      <td>0.000051</td>\n",
       "      <td>6.039188</td>\n",
       "      <td>9.969023</td>\n",
       "      <td>139.761856</td>\n",
       "    </tr>\n",
       "    <tr>\n",
       "      <th>1</th>\n",
       "      <td>1.312492</td>\n",
       "      <td>0.120482</td>\n",
       "      <td>0.000061</td>\n",
       "      <td>6.031533</td>\n",
       "      <td>9.857106</td>\n",
       "      <td>139.769943</td>\n",
       "    </tr>\n",
       "    <tr>\n",
       "      <th>2</th>\n",
       "      <td>1.318045</td>\n",
       "      <td>0.115877</td>\n",
       "      <td>0.000050</td>\n",
       "      <td>6.050929</td>\n",
       "      <td>9.360362</td>\n",
       "      <td>139.913361</td>\n",
       "    </tr>\n",
       "    <tr>\n",
       "      <th>3</th>\n",
       "      <td>1.277863</td>\n",
       "      <td>0.148401</td>\n",
       "      <td>0.000071</td>\n",
       "      <td>6.099534</td>\n",
       "      <td>10.493236</td>\n",
       "      <td>139.169876</td>\n",
       "    </tr>\n",
       "    <tr>\n",
       "      <th>4</th>\n",
       "      <td>1.282802</td>\n",
       "      <td>0.144501</td>\n",
       "      <td>0.000059</td>\n",
       "      <td>6.117156</td>\n",
       "      <td>10.170503</td>\n",
       "      <td>139.633194</td>\n",
       "    </tr>\n",
       "    <tr>\n",
       "      <th>...</th>\n",
       "      <td>...</td>\n",
       "      <td>...</td>\n",
       "      <td>...</td>\n",
       "      <td>...</td>\n",
       "      <td>...</td>\n",
       "      <td>...</td>\n",
       "    </tr>\n",
       "    <tr>\n",
       "      <th>27957</th>\n",
       "      <td>1.314256</td>\n",
       "      <td>0.119024</td>\n",
       "      <td>0.000053</td>\n",
       "      <td>6.053602</td>\n",
       "      <td>9.393138</td>\n",
       "      <td>139.352203</td>\n",
       "    </tr>\n",
       "    <tr>\n",
       "      <th>27958</th>\n",
       "      <td>1.274112</td>\n",
       "      <td>0.151344</td>\n",
       "      <td>0.000195</td>\n",
       "      <td>6.026633</td>\n",
       "      <td>16.322149</td>\n",
       "      <td>137.640121</td>\n",
       "    </tr>\n",
       "    <tr>\n",
       "      <th>27959</th>\n",
       "      <td>1.310398</td>\n",
       "      <td>0.122210</td>\n",
       "      <td>0.000147</td>\n",
       "      <td>6.080271</td>\n",
       "      <td>10.197368</td>\n",
       "      <td>139.550537</td>\n",
       "    </tr>\n",
       "    <tr>\n",
       "      <th>27960</th>\n",
       "      <td>1.310770</td>\n",
       "      <td>0.121903</td>\n",
       "      <td>0.000054</td>\n",
       "      <td>6.048084</td>\n",
       "      <td>10.005424</td>\n",
       "      <td>139.804871</td>\n",
       "    </tr>\n",
       "    <tr>\n",
       "      <th>27961</th>\n",
       "      <td>1.310041</td>\n",
       "      <td>0.122504</td>\n",
       "      <td>0.000055</td>\n",
       "      <td>6.046786</td>\n",
       "      <td>10.019898</td>\n",
       "      <td>139.804306</td>\n",
       "    </tr>\n",
       "  </tbody>\n",
       "</table>\n",
       "<p>27962 rows × 6 columns</p>\n",
       "</div>"
      ],
      "text/plain": [
       "            ATP       ADP       cai       cli        Nai          Ki\n",
       "0      1.295010  0.134746  0.000051  6.039188   9.969023  139.761856\n",
       "1      1.312492  0.120482  0.000061  6.031533   9.857106  139.769943\n",
       "2      1.318045  0.115877  0.000050  6.050929   9.360362  139.913361\n",
       "3      1.277863  0.148401  0.000071  6.099534  10.493236  139.169876\n",
       "4      1.282802  0.144501  0.000059  6.117156  10.170503  139.633194\n",
       "...         ...       ...       ...       ...        ...         ...\n",
       "27957  1.314256  0.119024  0.000053  6.053602   9.393138  139.352203\n",
       "27958  1.274112  0.151344  0.000195  6.026633  16.322149  137.640121\n",
       "27959  1.310398  0.122210  0.000147  6.080271  10.197368  139.550537\n",
       "27960  1.310770  0.121903  0.000054  6.048084  10.005424  139.804871\n",
       "27961  1.310041  0.122504  0.000055  6.046786  10.019898  139.804306\n",
       "\n",
       "[27962 rows x 6 columns]"
      ]
     },
     "execution_count": 10,
     "metadata": {},
     "output_type": "execute_result"
    }
   ],
   "source": [
    "df"
   ]
  },
  {
   "cell_type": "code",
   "execution_count": 11,
   "metadata": {},
   "outputs": [],
   "source": [
    "#df.to_csv('/gpfs/bbp.cscs.ch/data/project/proj137/farinaNGV/Multiscale_ndm_met/Figures/Data/fig2b_data.csv', index=False)"
   ]
  },
  {
   "cell_type": "code",
   "execution_count": null,
   "metadata": {},
   "outputs": [],
   "source": []
  }
 ],
 "metadata": {
  "kernelspec": {
   "display_name": "multiscale_kernel",
   "language": "python",
   "name": "multiscale_kernel"
  },
  "language_info": {
   "codemirror_mode": {
    "name": "ipython",
    "version": 3
   },
   "file_extension": ".py",
   "mimetype": "text/x-python",
   "name": "python",
   "nbconvert_exporter": "python",
   "pygments_lexer": "ipython3",
   "version": "3.8.3"
  }
 },
 "nbformat": 4,
 "nbformat_minor": 4
}
